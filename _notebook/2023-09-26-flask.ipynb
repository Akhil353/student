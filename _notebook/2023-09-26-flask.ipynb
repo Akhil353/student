{
 "cells": [
  {
   "cell_type": "code",
   "execution_count": null,
   "metadata": {},
   "outputs": [],
   "source": [
    "%%python --bg\n",
    "\n",
    "from flask import Flask, jsonify\n",
    "from flask_cors import CORS\n",
    "\n",
    "# initialize a flask application (app)\n",
    "app = Flask(__name__)\n",
    "CORS(app, supports_credentials=True, origins='*')  # Allow all origins (*)\n",
    "\n",
    "# ... your existing Flask\n",
    "\n",
    "# add an api endpoint to flask app\n",
    "@app.route('/api/data')\n",
    "def get_data():\n",
    "    # start a list, to be used like a information database\n",
    "    InfoDb = []\n",
    "\n",
    "    # add a row to list, an Info record\n",
    "    InfoDb.append({\n",
    "        \"FirstName\": \"Akhil\",\n",
    "        \"LastName\": \"Singamneni\",\n",
    "        \"DOB\": \"August 25\",\n",
    "        \"Residence\": \"San Diego\",\n",
    "    })\n",
    "\n",
    "    # add a row to list, an Info record\n",
    "    InfoDb.append({\n",
    "        \"FirstName\": \"Ravi\",\n",
    "        \"LastName\": \"Singamneni\",\n",
    "        \"DOB\": \"July 6\",\n",
    "        \"Residence\": \"San Diego\",\n",
    "    })\n",
    "    \n",
    "    return jsonify(InfoDb)\n",
    "\n",
    "# add an HTML endpoint to flask app\n",
    "@app.route('/')\n",
    "def say_hello():\n",
    "    html_content = \"\"\"\n",
    "    <html>\n",
    "    <head>\n",
    "        <title>Hellox</title>\n",
    "    </head>\n",
    "    <body>\n",
    "        <h2>This is my first message!</h2>\n",
    "    </body>\n",
    "    </html>\n",
    "    \"\"\"\n",
    "    return html_content\n",
    "\n",
    "if __name__ == '__main__':\n",
    "    # starts flask server on default port, http://127.0.0.1:5001\n",
    "    app.run(port=5001)\n"
   ]
  },
  {
   "cell_type": "code",
   "execution_count": null,
   "metadata": {},
   "outputs": [],
   "source": [
    "import requests\n",
    "res = requests.get('http://127.0.0.1:5001/api/data')\n",
    "res.json()"
   ]
  },
  {
   "cell_type": "code",
   "execution_count": null,
   "metadata": {},
   "outputs": [],
   "source": [
    "%%script bash\n",
    "\n",
    "lsof -i :5001 | awk '/Python/ {print $2}' | xargs kill -9"
   ]
  }
 ],
 "metadata": {
  "language_info": {
   "name": "python"
  },
  "orig_nbformat": 4
 },
 "nbformat": 4,
 "nbformat_minor": 2
}
