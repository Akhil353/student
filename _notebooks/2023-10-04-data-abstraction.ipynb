{
 "cells": [
  {
   "cell_type": "code",
   "execution_count": 5,
   "metadata": {},
   "outputs": [
    {
     "name": "stdout",
     "output_type": "stream",
     "text": [
      "I am Akhil and I am 354 years old!!! ☢︎\n"
     ]
    }
   ],
   "source": [
    "#Popcorn Hack \n",
    "me  = 'Akhil'\n",
    "age = 354\n",
    "\n",
    "print(f\"I am {me} and I am {age} years old!!! ☢︎\")"
   ]
  },
  {
   "cell_type": "code",
   "execution_count": 6,
   "metadata": {},
   "outputs": [
    {
     "name": "stdout",
     "output_type": "stream",
     "text": [
      "<class 'bool'>\n",
      "<class 'str'>\n",
      "<class 'int'>\n"
     ]
    }
   ],
   "source": [
    "#Popcorn Hack \n",
    "boolean = True\n",
    "print(type(boolean))\n",
    "print(type(me))\n",
    "print(type(age))"
   ]
  },
  {
   "cell_type": "code",
   "execution_count": 7,
   "metadata": {},
   "outputs": [
    {
     "name": "stdout",
     "output_type": "stream",
     "text": [
      "20 5 15\n"
     ]
    }
   ],
   "source": [
    "#Popcorn Hack\n",
    "x = 15\n",
    "y = 20\n",
    "z = x\n",
    "x = y\n",
    "y = x - z\n",
    "\n",
    "print(x, y, z)"
   ]
  },
  {
   "cell_type": "code",
   "execution_count": 14,
   "metadata": {},
   "outputs": [
    {
     "name": "stdout",
     "output_type": "stream",
     "text": [
      "p\n"
     ]
    }
   ],
   "source": [
    "#Popcorn Hack\n",
    "string = 'Hippopotomonstrosesquippedaliophobia'\n",
    "print(string[3])"
   ]
  },
  {
   "cell_type": "code",
   "execution_count": 4,
   "metadata": {},
   "outputs": [
    {
     "name": "stdout",
     "output_type": "stream",
     "text": [
      "Name: a\n",
      "Age: 83\n",
      "Name: h\n",
      "Age: 38\n",
      "\n",
      "\n",
      "The oldest person is a.\n",
      "\n",
      "\n",
      "Ordered names: ['a', 'h']\n",
      "Ordered ages: [38, 83]\n"
     ]
    }
   ],
   "source": [
    "# Homework\n",
    "\n",
    "#Create class called person\n",
    "class person:\n",
    "    def __init__(self, name, age):\n",
    "        self.name = name\n",
    "        self.age = age\n",
    "\n",
    "#Get a list of people and print the info of each person\n",
    "def print_people(list_of_people):\n",
    "    for person in list_of_people:\n",
    "        print(f\"Name: {person}\\nAge: {list_of_people[person]}\")\n",
    "\n",
    "#Get the oldest person\n",
    "def print_oldest(list_of_people):\n",
    "    x = list(list_of_people.values())\n",
    "    x = x.index(max(x))\n",
    "    print(f\"The oldest person is {list(list_of_people.keys())[x]}.\")\n",
    "\n",
    "#Create a dictionary of people\n",
    "people = {}\n",
    "\n",
    "keep_going = 'Y'\n",
    "while keep_going == 'Y':\n",
    "    person = input('Enter person name: ')\n",
    "    people[person] = int(input('Input person age: '))\n",
    "    keep_going = input('Add another person [Y/N]? ').upper()\n",
    "\n",
    "def print_ordered(people):\n",
    "    names = list(people.keys())\n",
    "    ages = list(people.values())\n",
    "    names.sort()\n",
    "    ages.sort()\n",
    "\n",
    "    print(f'Ordered names list: {names}')\n",
    "    print(f'Ordered ages list: {ages}')\n",
    "\n",
    "#print functions\n",
    "print_people(people)\n",
    "print('\\n')\n",
    "print_oldest(people)\n",
    "print('\\n')\n",
    "print_ordered(people)"
   ]
  },
  {
   "cell_type": "code",
   "execution_count": null,
   "metadata": {},
   "outputs": [],
   "source": []
  }
 ],
 "metadata": {
  "kernelspec": {
   "display_name": "Python 3",
   "language": "python",
   "name": "python3"
  },
  "language_info": {
   "codemirror_mode": {
    "name": "ipython",
    "version": 3
   },
   "file_extension": ".py",
   "mimetype": "text/x-python",
   "name": "python",
   "nbconvert_exporter": "python",
   "pygments_lexer": "ipython3",
   "version": "3.11.5"
  },
  "orig_nbformat": 4
 },
 "nbformat": 4,
 "nbformat_minor": 2
}
