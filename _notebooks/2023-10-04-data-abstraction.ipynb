{
 "cells": [
  {
   "cell_type": "code",
   "execution_count": 5,
   "metadata": {},
   "outputs": [
    {
     "name": "stdout",
     "output_type": "stream",
     "text": [
      "I am Akhil and I am 354 years old!!! ☢︎\n"
     ]
    }
   ],
   "source": [
    "me  = 'Akhil'\n",
    "age = 354\n",
    "\n",
    "print(f\"I am {me} and I am {age} years old!!! ☢︎\")"
   ]
  },
  {
   "cell_type": "code",
   "execution_count": 6,
   "metadata": {},
   "outputs": [
    {
     "name": "stdout",
     "output_type": "stream",
     "text": [
      "<class 'bool'>\n",
      "<class 'str'>\n",
      "<class 'int'>\n"
     ]
    }
   ],
   "source": [
    "boolean = True\n",
    "print(type(boolean))\n",
    "print(type(me))\n",
    "print(type(age))"
   ]
  },
  {
   "cell_type": "code",
   "execution_count": 7,
   "metadata": {},
   "outputs": [
    {
     "name": "stdout",
     "output_type": "stream",
     "text": [
      "20 5 15\n"
     ]
    }
   ],
   "source": [
    "x = 15\n",
    "y = 20\n",
    "z = x\n",
    "x = y\n",
    "y = x - z\n",
    "\n",
    "print(x, y, z)"
   ]
  },
  {
   "cell_type": "code",
   "execution_count": 14,
   "metadata": {},
   "outputs": [
    {
     "name": "stdout",
     "output_type": "stream",
     "text": [
      "p\n"
     ]
    }
   ],
   "source": [
    "string = 'Hippopotomonstrosesquippedaliophobia'\n",
    "print(string[3])"
   ]
  },
  {
   "cell_type": "code",
   "execution_count": 25,
   "metadata": {},
   "outputs": [
    {
     "name": "stdout",
     "output_type": "stream",
     "text": [
      "Name: John\n",
      "Age: 32\n",
      "Name: Rob\n",
      "Age: 23\n",
      "Name: Amanda\n",
      "Age: 19\n",
      "The oldest person is John\n"
     ]
    }
   ],
   "source": [
    "# HACKS\n",
    "\n",
    "class person:\n",
    "    def __init__(self, name, age):\n",
    "        self.name = name\n",
    "        self.age = age\n",
    "\n",
    "def print_people(list_of_people):\n",
    "    for person in list_of_people:\n",
    "        print(f\"Name: {person}\\nAge: {list_of_people[person]}\")\n",
    "\n",
    "def print_oldest(list_of_people):\n",
    "    x = list(list_of_people.values())\n",
    "    x = x.index(max(x))\n",
    "    print(f\"The oldest person is {list(list_of_people.keys())[x]}.\")\n",
    "\n",
    "people = {\n",
    "    \"John\": 32,\n",
    "    \"Rob\": 23,\n",
    "    \"Amanda\": 19\n",
    "}\n",
    "\n",
    "print_people(people)\n",
    "\n",
    "print_oldest(people)"
   ]
  },
  {
   "cell_type": "code",
   "execution_count": null,
   "metadata": {},
   "outputs": [],
   "source": []
  }
 ],
 "metadata": {
  "kernelspec": {
   "display_name": "Python 3",
   "language": "python",
   "name": "python3"
  },
  "language_info": {
   "codemirror_mode": {
    "name": "ipython",
    "version": 3
   },
   "file_extension": ".py",
   "mimetype": "text/x-python",
   "name": "python",
   "nbconvert_exporter": "python",
   "pygments_lexer": "ipython3",
   "version": "3.11.5"
  },
  "orig_nbformat": 4
 },
 "nbformat": 4,
 "nbformat_minor": 2
}
