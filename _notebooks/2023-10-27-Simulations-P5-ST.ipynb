{
 "cells": [
  {
   "cell_type": "markdown",
   "metadata": {},
   "source": [
    "---\n",
    "comments: true\n",
    "layout: default\n",
    "title: Simulations - Student Teach\n",
    "description: Student Lesson\n",
    "type: hacks\n",
    "courses: { timebox: {week: 9} }\n",
    "---"
   ]
  },
  {
   "cell_type": "markdown",
   "metadata": {},
   "source": [
    "## Simulations \n"
   ]
  },
  {
   "cell_type": "markdown",
   "metadata": {},
   "source": [
    "> A simulation is the use of a computer software to represent the dynamic responses of one system by the behaviour of another system modeled after it. A simulation uses a mathematical descriptions, or models, of a real system in the form of a computer program."
   ]
  },
  {
   "cell_type": "markdown",
   "metadata": {},
   "source": [
    "![simulation](https://www.simscale.com/wp-content/uploads/2022/11/dron-quadcopter-simulation.png)"
   ]
  },
  {
   "cell_type": "markdown",
   "metadata": {},
   "source": [
    "## College Board Essential Knowledge"
   ]
  },
  {
   "cell_type": "markdown",
   "metadata": {},
   "source": [
    "> Simulation are absractions of more complex objects or phenomena for a specific purpose \n",
    "\n",
    "- Mimic Real World Events\n",
    "- Allows investigation of phenomenons without contraints of the Real World\n",
    "- Helps you draw accurate inferences\n",
    "\n",
    "> Simulations utilize varying sets of values to reflect the changings states of a phenomenon\n",
    "\n",
    "- simulations can simplfly things for functionality\n",
    "- Simulations can contain bias from real world elements, that were chosen to be included or excluded\n",
    "\n",
    "> Simulations work best when the real world experemnts are too impractical or time consuming. For example, simulating how different cars behave when they crash, would be much better than crashng actual cars in the real world, which would be expensive and dangerous.\n",
    "\n",
    "<a href=\"https://ibb.co/f4jKcBY\"><img src=\"https://i.ibb.co/NZck4Q6/simulations-vs-experiments.png\" alt=\"simulations-vs-experiments\" border=\"0\"></a>\n"
   ]
  },
  {
   "cell_type": "markdown",
   "metadata": {},
   "source": [
    "## Rolling the Dice"
   ]
  },
  {
   "cell_type": "markdown",
   "metadata": {},
   "source": [
    "<a href=\"https://ibb.co/PGBhfPD\"><img src=\"https://i.ibb.co/XxmsvKY/craps-rolling-seven-7.jpg\" alt=\"craps-rolling-seven-7\" border=\"0\"></a>\n",
    "\n",
    "> Simulating something like a dice roll in real life would require accounting for things like: weight, flaws in design, thrust, and gravity.\n",
    "- KEEP IT SIMPLE! just use a random-number generator! Ignore minor causes of variablility"
   ]
  },
  {
   "cell_type": "markdown",
   "metadata": {},
   "source": [
    "## Random"
   ]
  },
  {
   "cell_type": "markdown",
   "metadata": {},
   "source": [
    "- \"Random\" is a built-in python function that allow the user to draw a random value from a set range.\n",
    "- A Random Number Generator (RNG) is a common simulation that selects a random value from an array.\n",
    "- The following code cell utilizes \"random\" to select a number from 1 to 100."
   ]
  },
  {
   "cell_type": "code",
   "execution_count": null,
   "metadata": {},
   "outputs": [],
   "source": [
    "#imports random module so we can use it in our code\n",
    "import random\n",
    "\n",
    "#sets variable random_number as a random number between 1 and 100\n",
    "random_number = random.randint(1, 100)\n",
    "\n",
    "#Printing out your random Number\n",
    "print(random_number)"
   ]
  },
  {
   "cell_type": "markdown",
   "metadata": {},
   "source": [
    "## More complex usage of \"random\"; Coin Toss Simulation"
   ]
  },
  {
   "cell_type": "code",
   "execution_count": null,
   "metadata": {},
   "outputs": [],
   "source": [
    "import random\n",
    "def flip_coin():\n",
    "    return random.choice([\"Heads\", \"Tails\"])\n",
    "def coin_flip_simulation(num_flips):\n",
    "    heads_count = 0\n",
    "    tails_count = 0\n",
    "    for _ in range(num_flips):\n",
    "        result = flip_coin()\n",
    "        if result == \"Heads\":\n",
    "            heads_count += 1\n",
    "        else:\n",
    "            tails_count += 1\n",
    "    return heads_count, tails_count\n",
    "if __name__ == \"__main__\":\n",
    "    num_flips = 1000  #This is the number of coin flips you want to simulate\n",
    "    heads, tails = coin_flip_simulation(num_flips)\n",
    "    print(\"Number of Heads: \"+ str(heads))\n",
    "    print(\"Number of Tails: \" + str(tails))\n",
    "    print(\"Heads Probability: \"+ str({heads / num_flips}))\n",
    "    print(\"Tails Probability: \"+ str({tails / num_flips}))"
   ]
  },
  {
   "cell_type": "markdown",
   "metadata": {},
   "source": [
    "## Popcorn Hack #1"
   ]
  },
  {
   "cell_type": "markdown",
   "metadata": {},
   "source": [
    "Utilize \"random\" to create a basic simulation of a rolling TWO dice. Print the sum of both dice rolls. Remember to practice good syntax when naming your variables. "
   ]
  },
  {
   "cell_type": "code",
   "execution_count": 2,
   "metadata": {},
   "outputs": [
    {
     "name": "stdout",
     "output_type": "stream",
     "text": [
      "Dice 1: 4\n",
      "Dice 2: 6\n"
     ]
    }
   ],
   "source": [
    "import random\n",
    "\n",
    "print(f\"Dice 1: {random.randint(1,6)}\\nDice 2: {random.randint(1,6)}\")"
   ]
  },
  {
   "cell_type": "markdown",
   "metadata": {},
   "source": [
    "## Algorithms\n",
    ">Simulations often utilize algorithms and equations to perform tasks because simulations don't always have the same output\n",
    "- the output of a simulation depends on the input\n",
    "\n",
    ">An algorithm is a finite sequence of instructions used to solve problems or perform computations. \n",
    "- commonly used alongside functions\n"
   ]
  },
  {
   "cell_type": "markdown",
   "metadata": {},
   "source": [
    "## Example Algorithm in a function"
   ]
  },
  {
   "cell_type": "code",
   "execution_count": 42,
   "metadata": {},
   "outputs": [
    {
     "data": {
      "text/plain": [
       "7"
      ]
     },
     "execution_count": 42,
     "metadata": {},
     "output_type": "execute_result"
    }
   ],
   "source": [
    "#Defining Function\n",
    "def algorithm(input):\n",
    "    \n",
    "    #Manipulating input and preparing it for the output.  \n",
    "    output = input+2\n",
    "    \n",
    "    #Return the output\n",
    "    return output\n",
    "\n",
    "#Call the Function to start the algorithm\n",
    "algorithm(5)\n",
    "    "
   ]
  },
  {
   "cell_type": "markdown",
   "metadata": {},
   "source": [
    "## Mathematics\n",
    "- Math can also prove to be very useful in certain types of situations.\n",
    "- Commonly used along with Algorithms when simulating various things\n",
    "\n",
    "![math](https://pythontutorialhome.files.wordpress.com/2019/05/image-2.png)\n"
   ]
  },
  {
   "cell_type": "markdown",
   "metadata": {},
   "source": [
    "## Popcorn Hack #2"
   ]
  },
  {
   "cell_type": "markdown",
   "metadata": {},
   "source": [
    "Simulate how long an object will fall for using an algorithm, with user-inputed variables for height dropped. Use the following formula as a reference.\n",
    "\n",
    "![gravity ](https://hepweb.ucsd.edu/ph110b/110b_notes/img272.png)\n",
    "\n",
    "- t = time (output)\n",
    "- h = height dropped from (input)\n",
    "- g = constant (given)"
   ]
  },
  {
   "cell_type": "code",
   "execution_count": 7,
   "metadata": {},
   "outputs": [
    {
     "data": {
      "text/plain": [
       "'It will take 1.0096375546923044 seconds for this to hit the ground.'"
      ]
     },
     "execution_count": 7,
     "metadata": {},
     "output_type": "execute_result"
    }
   ],
   "source": [
    "# Constant, Acceleration due to gravity (m/s^2)\n",
    "G = 9.81 \n",
    "\n",
    "def simulation(height_dropped):\n",
    "    return (f'It will take {((2*height_dropped)/G) ** 0.5} seconds for this to hit the ground.')\n",
    "\n",
    "simulation(5)"
   ]
  },
  {
   "cell_type": "markdown",
   "metadata": {},
   "source": [
    "# Using Loops in Simulations"
   ]
  },
  {
   "cell_type": "markdown",
   "metadata": {},
   "source": [
    "> For loops can also be used in simulations\n",
    "- They can simulate events that repeat but don't always have the same output\n"
   ]
  },
  {
   "cell_type": "code",
   "execution_count": 44,
   "metadata": {},
   "outputs": [
    {
     "name": "stdout",
     "output_type": "stream",
     "text": [
      "This is run number: 0\n",
      "This is run number: 1\n",
      "This is run number: 2\n",
      "This is run number: 3\n"
     ]
    }
   ],
   "source": [
    "# Example For Loop\n",
    "\n",
    "#Creating For Loop to repeat 4 times\n",
    "for i in range(4):\n",
    "    \n",
    "    #Action that happens inside for loop\n",
    "    print(\"This is run number: \" + str(i))\n",
    "    "
   ]
  },
  {
   "cell_type": "markdown",
   "metadata": {},
   "source": [
    "## Popcorn Hack #3"
   ]
  },
  {
   "cell_type": "markdown",
   "metadata": {},
   "source": [
    "You are gambling addic. \n",
    "\n",
    "Each session you roll 2 dice.\n",
    "\n",
    "If your dice roll is greater than or equal to 9 you win the session.\n",
    "\n",
    "If you win over 5 sessions, you win the jackpot.\n",
    "\n",
    "Simulate your odds to predict if you will hit the jackpot (how many rounds did you win?) using a for loop and random.\n"
   ]
  },
  {
   "cell_type": "code",
   "execution_count": 13,
   "metadata": {},
   "outputs": [
    {
     "name": "stdout",
     "output_type": "stream",
     "text": [
      "Your chances of winning the jackpot in this scenario was 20.0%\n"
     ]
    }
   ],
   "source": [
    "probability = 0\n",
    "for i in range(5):\n",
    "    dice_1 = random.randint(1,6)\n",
    "    dice_2 = random.randint(1,6)\n",
    "\n",
    "    if dice_1 + dice_2 >= 9:\n",
    "        probability += 1\n",
    "\n",
    "print(f'Your chances of winning the jackpot in this scenario was {(probability*100) / 5}%.')\n",
    "#Output will be 20% most of the time, but can occasionally be something else b/c that's how probability works"
   ]
  },
  {
   "cell_type": "markdown",
   "metadata": {},
   "source": [
    "## BONUS POPCORN HACK\n",
    "> Welcome to Flight Simulator! Your goal is to complete a Python program that simulates a flight We've set up some initial values for altitude, speed, and fuel. Your task is to update these values to make the flight more realistic.\n",
    "\n",
    "- Your mission:\n",
    "\n",
    "1. Use random changes to simulate altitude, speed, and fuel changes.\n",
    "2. Keep the flight going until it reaches 10,000 feet or runs out of fuel.\n",
    "3. Make sure altitude, speed, and fuel remain realistic."
   ]
  },
  {
   "cell_type": "code",
   "execution_count": 14,
   "metadata": {},
   "outputs": [
    {
     "name": "stdout",
     "output_type": "stream",
     "text": [
      "Welcome to Flight Simulator!\n",
      "Altitude: 81.01 feet, Speed: 6.47 knots, Fuel: 98.09 gallons\n",
      "Altitude: 142.33 feet, Speed: 4.97 knots, Fuel: 95.98 gallons\n",
      "Altitude: 168.35 feet, Speed: 15.11 knots, Fuel: 91.36 gallons\n",
      "Altitude: 321.61 feet, Speed: 22.66 knots, Fuel: 86.77 gallons\n",
      "Altitude: 456.66 feet, Speed: 33.85 knots, Fuel: 85.75 gallons\n",
      "Altitude: 640.62 feet, Speed: 35.98 knots, Fuel: 82.46 gallons\n",
      "Altitude: 733.27 feet, Speed: 52.34 knots, Fuel: 81.19 gallons\n",
      "Altitude: 751.38 feet, Speed: 58.27 knots, Fuel: 79.83 gallons\n",
      "Altitude: 800.01 feet, Speed: 52.56 knots, Fuel: 78.31 gallons\n",
      "Altitude: 925.55 feet, Speed: 69.38 knots, Fuel: 75.06 gallons\n",
      "Altitude: 931.40 feet, Speed: 74.63 knots, Fuel: 73.74 gallons\n",
      "Altitude: 1115.01 feet, Speed: 72.84 knots, Fuel: 71.91 gallons\n",
      "Altitude: 1294.09 feet, Speed: 70.52 knots, Fuel: 68.59 gallons\n",
      "Altitude: 1259.43 feet, Speed: 63.42 knots, Fuel: 66.51 gallons\n",
      "Altitude: 1229.16 feet, Speed: 71.59 knots, Fuel: 63.94 gallons\n",
      "Altitude: 1138.34 feet, Speed: 79.92 knots, Fuel: 62.58 gallons\n",
      "Altitude: 1287.86 feet, Speed: 93.17 knots, Fuel: 57.69 gallons\n",
      "Altitude: 1277.09 feet, Speed: 112.25 knots, Fuel: 56.03 gallons\n",
      "Altitude: 1422.81 feet, Speed: 114.99 knots, Fuel: 52.20 gallons\n",
      "Altitude: 1550.04 feet, Speed: 119.12 knots, Fuel: 48.95 gallons\n",
      "Altitude: 1533.57 feet, Speed: 117.22 knots, Fuel: 46.52 gallons\n",
      "Altitude: 1671.29 feet, Speed: 110.36 knots, Fuel: 42.63 gallons\n",
      "Altitude: 1765.86 feet, Speed: 113.39 knots, Fuel: 40.63 gallons\n",
      "Altitude: 1826.20 feet, Speed: 122.68 knots, Fuel: 38.96 gallons\n",
      "Altitude: 1759.27 feet, Speed: 141.32 knots, Fuel: 35.09 gallons\n",
      "Altitude: 1678.83 feet, Speed: 141.86 knots, Fuel: 32.11 gallons\n",
      "Altitude: 1631.86 feet, Speed: 159.00 knots, Fuel: 30.48 gallons\n",
      "Altitude: 1831.32 feet, Speed: 154.89 knots, Fuel: 29.26 gallons\n",
      "Altitude: 2018.31 feet, Speed: 153.89 knots, Fuel: 27.46 gallons\n",
      "Altitude: 1945.95 feet, Speed: 167.97 knots, Fuel: 22.66 gallons\n",
      "Altitude: 1860.35 feet, Speed: 175.88 knots, Fuel: 19.99 gallons\n",
      "Altitude: 2028.52 feet, Speed: 181.84 knots, Fuel: 18.61 gallons\n",
      "Altitude: 2023.80 feet, Speed: 193.64 knots, Fuel: 15.82 gallons\n",
      "Altitude: 2071.35 feet, Speed: 193.61 knots, Fuel: 13.23 gallons\n",
      "Altitude: 2266.39 feet, Speed: 207.53 knots, Fuel: 9.32 gallons\n",
      "Altitude: 2433.24 feet, Speed: 211.82 knots, Fuel: 6.27 gallons\n",
      "Altitude: 2628.64 feet, Speed: 203.33 knots, Fuel: 1.28 gallons\n",
      "Altitude: 2807.30 feet, Speed: 220.23 knots, Fuel: 0.00 gallons\n",
      "Out of fuel! The flight has ended.\n"
     ]
    }
   ],
   "source": [
    "import random\n",
    "\n",
    "altitude = 0\n",
    "speed = 0\n",
    "fuel = 100\n",
    "\n",
    "print(\"Welcome to Flight Simulator!\")\n",
    "\n",
    "while altitude < 10000 and fuel > 0:\n",
    "    altitude_change = random.uniform(-100, 200)\n",
    "    speed_change = random.uniform(-10, 20)\n",
    "    fuel_consumption = random.uniform(1, 5)\n",
    "\n",
    "    altitude += altitude_change\n",
    "    speed += speed_change\n",
    "    fuel -= fuel_consumption\n",
    "\n",
    "    altitude = max(0, altitude)\n",
    "    speed = max(0, speed)\n",
    "    fuel = max(0, fuel)\n",
    "\n",
    "    print(f\"Altitude: {altitude:.2f} feet, Speed: {speed:.2f} knots, Fuel: {fuel:.2f} gallons\")\n",
    "\n",
    "if altitude >= 10000:\n",
    "    print(\"Congratulations! You've reached 10,000 feet.\")\n",
    "else:\n",
    "    print(\"Out of fuel! The flight has ended.\")\n"
   ]
  },
  {
   "cell_type": "markdown",
   "metadata": {},
   "source": [
    "## QUIZ TIME"
   ]
  },
  {
   "cell_type": "markdown",
   "metadata": {},
   "source": [
    "- Quick true or false quiz, whoever answers this correctly(raise your hand) gets a piece of gum or a dinero. \n",
    "<hr>\n",
    "\n",
    "> T or F    \n",
    "- A simulation will always have the same result. \n",
    "# False\n",
    "> T or F    \n",
    "- A simulation investigates a phenomenom without real-world constraints of time, money, or safety. \n",
    "# True\n",
    "> T or F    \n",
    "- A simulation has results which are more accurate than an experiment, \n",
    "# False\n",
    "> T or F    \n",
    "- A simulation can model real-worl events that are not practical for experiments \n",
    "# True"
   ]
  },
  {
   "cell_type": "markdown",
   "metadata": {},
   "source": [
    "# Homework Hack #1"
   ]
  },
  {
   "cell_type": "code",
   "execution_count": 10,
   "metadata": {},
   "outputs": [
    {
     "name": "stdout",
     "output_type": "stream",
     "text": [
      "Your chances of hitting the jackpot in this scenario were 60.0%.\n"
     ]
    }
   ],
   "source": [
    "#code\n",
    "import random\n",
    "\n",
    "starting_money = 500\n",
    "jackpot_threshold = 5\n",
    "winning_sessions = 0\n",
    "\n",
    "for _ in range(jackpot_threshold):\n",
    "    dice_roll = random.randint(1, 6) + random.randint(1, 6)\n",
    "\n",
    "    if dice_roll <= 3:\n",
    "        starting_money -= 70\n",
    "    elif dice_roll <= 6:\n",
    "        starting_money -= 40\n",
    "    elif dice_roll <= 9:\n",
    "        starting_money += 20\n",
    "    else:\n",
    "        starting_money += 50\n",
    "\n",
    "    if starting_money <= 0:\n",
    "        break\n",
    "\n",
    "    if dice_roll == 12:\n",
    "        starting_money += 100\n",
    "\n",
    "    if starting_money >= jackpot_threshold * 100:\n",
    "        winning_sessions += 1\n",
    "\n",
    "print(f'Your chances of hitting the jackpot in this scenario were {(winning_sessions * 100) / jackpot_threshold}%.')\n"
   ]
  },
  {
   "cell_type": "markdown",
   "metadata": {},
   "source": [
    "# Homework Hack 2"
   ]
  },
  {
   "cell_type": "code",
   "execution_count": 20,
   "metadata": {},
   "outputs": [
    {
     "name": "stdout",
     "output_type": "stream",
     "text": [
      "Time (seconds): 32, Distance traveled: 1053, Final speed: 61mps\n"
     ]
    }
   ],
   "source": [
    "# Initial parameters\n",
    "speed = 0  # Initial speed\n",
    "acceleration = 2  # Acceleration rate in m/s^2\n",
    "deceleration = 1  # Deceleration rate in m/s^2\n",
    "max_speed = 60  # Maximum speed in m/s\n",
    "distance = 0  # Initial distance\n",
    "time = 0  # Initial time\n",
    "\n",
    "while distance < 1000:\n",
    "    if speed > max_speed:\n",
    "        speed -= deceleration\n",
    "        distance += speed\n",
    "    else:\n",
    "        speed += acceleration\n",
    "        distance += speed\n",
    "    time += 1\n",
    "\n",
    "print(f\"Time (seconds): {time}, Distance traveled: {distance}, Final speed: {speed}mps\")\n",
    "\n"
   ]
  }
 ],
 "metadata": {
  "kernelspec": {
   "display_name": "Python 3",
   "language": "python",
   "name": "python3"
  },
  "language_info": {
   "codemirror_mode": {
    "name": "ipython",
    "version": 3
   },
   "file_extension": ".py",
   "mimetype": "text/x-python",
   "name": "python",
   "nbconvert_exporter": "python",
   "pygments_lexer": "ipython3",
   "version": "3.11.5"
  },
  "orig_nbformat": 4
 },
 "nbformat": 4,
 "nbformat_minor": 2
}
