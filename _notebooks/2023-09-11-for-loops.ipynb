{
 "cells": [
  {
   "cell_type": "markdown",
   "metadata": {},
   "source": [
    "---\n",
    "toc: True\n",
    "comments: False\n",
    "layout: default\n",
    "title: For Loops\n",
    "type: hacks\n",
    "courses: {'timebox': {'week': 4}}\n",
    "---"
   ]
  },
  {
   "cell_type": "code",
   "execution_count": null,
   "metadata": {},
   "outputs": [],
   "source": [
    "names = []\n",
    "\n",
    "for i in range(3):\n",
    "    names.append(input(f\"Add Name {i+1}: \"))\n",
    "names.sort(key=lambda x: len(x))\n",
    "\n",
    "print(\"Names in order of length: \")\n",
    "for name in names:\n",
    "    print(name)"
   ]
  },
  {
   "cell_type": "code",
   "execution_count": 33,
   "metadata": {},
   "outputs": [
    {
     "name": "stdout",
     "output_type": "stream",
     "text": [
      "{'shd': 243, 'fhfj3': 23, 'jgj': 34}\n"
     ]
    }
   ],
   "source": [
    "users = {}\n",
    "\n",
    "for i in range(3):\n",
    "    name = input(f\"Add Name {i+1}: \")\n",
    "    users[name] = int(input(f\"Enter Age in Years: \"))\n",
    "\n",
    "\n",
    "for i in list(users.keys()).sort(key = lambda x: len(x)):\n",
    "    \n",
    "\n",
    "option = int(input(\"Type 1 to print all users by name length, and type 2 to print by age: \"))\n",
    "\n",
    "if option == 1:\n",
    "    pass\n",
    "else:\n",
    "    pass\n",
    "    "
   ]
  },
  {
   "cell_type": "code",
   "execution_count": null,
   "metadata": {},
   "outputs": [],
   "source": []
  }
 ],
 "metadata": {
  "kernelspec": {
   "display_name": "Python 3",
   "language": "python",
   "name": "python3"
  },
  "language_info": {
   "codemirror_mode": {
    "name": "ipython",
    "version": 3
   },
   "file_extension": ".py",
   "mimetype": "text/x-python",
   "name": "python",
   "nbconvert_exporter": "python",
   "pygments_lexer": "ipython3",
   "version": "3.11.4"
  },
  "orig_nbformat": 4
 },
 "nbformat": 4,
 "nbformat_minor": 2
}
