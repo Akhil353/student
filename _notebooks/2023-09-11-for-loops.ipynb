{
 "cells": [
  {
   "cell_type": "markdown",
   "metadata": {},
   "source": [
    "---\n",
    "toc: True\n",
    "comments: False\n",
    "layout: default\n",
    "title: For Loops\n",
    "type: hacks\n",
    "courses: {'timebox': {'week': 4}}\n",
    "---"
   ]
  },
  {
   "cell_type": "code",
   "execution_count": null,
   "metadata": {},
   "outputs": [],
   "source": [
    "names = []\n",
    "\n",
    "for i in range(3):\n",
    "    names.append(input(f\"Add Name {i+1}: \"))\n",
    "names.sort(key=lambda x: len(x))\n",
    "\n",
    "print(\"Names in order of length: \")\n",
    "for name in names:\n",
    "    print(name)"
   ]
  },
  {
   "cell_type": "code",
   "execution_count": null,
   "metadata": {},
   "outputs": [],
   "source": [
    "names = {}\n",
    "\n",
    "for i in range(3):\n",
    "    names[i] = input(f\"Add Name {i+1}: \")\n",
    "\n",
    "\n",
    "list(names.values()).sort(key=lambda x: len(x))\n",
    "\n",
    "print(\"Names in order of length: \")\n",
    "for name in names:\n",
    "    print(names[name])\n",
    "    "
   ]
  }
 ],
 "metadata": {
  "kernelspec": {
   "display_name": "Python 3",
   "language": "python",
   "name": "python3"
  },
  "language_info": {
   "codemirror_mode": {
    "name": "ipython",
    "version": 3
   },
   "file_extension": ".py",
   "mimetype": "text/x-python",
   "name": "python",
   "nbconvert_exporter": "python",
   "pygments_lexer": "ipython3",
   "version": "3.11.4"
  },
  "orig_nbformat": 4
 },
 "nbformat": 4,
 "nbformat_minor": 2
}
