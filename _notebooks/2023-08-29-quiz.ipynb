{
 "cells": [
  {
   "attachments": {},
   "cell_type": "markdown",
   "metadata": {},
   "source": [
    "---\n",
    "toc: true\n",
    "comments: false\n",
    "layout: default\n",
    "title: About Me Quiz\n",
    "description: A quiz about me!\n",
    "type: hacks\n",
    "courses: { compsci: {week: 1} }\n",
    "---"
   ]
  },
  {
   "cell_type": "code",
   "execution_count": null,
   "metadata": {},
   "outputs": [],
   "source": [
    "yes_or_no = input(\"Would you like to take a quiz? [Y/N] \").lower()\n",
    "correct_answers = 0\n",
    "\n",
    "if yes_or_no == 'y':\n",
    "    print(\"Okay, lets go!\")\n",
    "else:\n",
    "    print('Too bad, hope you have fun!')\n",
    "    \n",
    "question1 = input(\"What is my partner's name? A) Advik Garg B) Yeongsu Kim C) Srijan Atti D) Joe Biden\").lower()\n",
    "\n",
    "if question1 == 'c':\n",
    "    correct_answers += 1\n",
    "    print(f\"Good Job! You current score is {correct_answers}/3\")\n",
    "else:\n",
    "    print(f\"Nice try, the correct answer was C! Your score is {correct_answers}/3\")\n",
    "    \n",
    "question2 = input(\"How long have I been doing coding? A) 3 Weeks B) 2 Years C) 1 Year D) 6 Months\").lower()\n",
    "\n",
    "if question2 == 'b':\n",
    "    correct_answers += 1\n",
    "    print(f\"Congrats, you were correct! Your score is now at {correct_answers}/3\")\n",
    "else:\n",
    "    print(f\"Nice try, the correct answer was B! Your score is {correct_answers}/3\")\n",
    "    \n",
    "question3 = input('What grade am I currently in? A) 9th B) 10th C) 11th D) 12th').lower()\n",
    "\n",
    "if question3 == 'b':\n",
    "    correct_answers += 1\n",
    "    print(\"Nice Job!\")\n",
    "    print(f\"Your final score is {correct_answers}/3\")\n",
    "else:\n",
    "    print(\"Nice try, the correct answer was C!\")\n",
    "    print(f\"Your final score is {correct_answers}/3\")"
   ]
  }
 ],
 "metadata": {
  "kernelspec": {
   "display_name": "Python 3 (ipykernel)",
   "language": "python",
   "name": "python3"
  },
  "language_info": {
   "codemirror_mode": {
    "name": "ipython",
    "version": 3
   },
   "file_extension": ".py",
   "mimetype": "text/x-python",
   "name": "python",
   "nbconvert_exporter": "python",
   "pygments_lexer": "ipython3",
   "version": "3.11.4"
  },
  "vscode": {
   "interpreter": {
    "hash": "b0fa6594d8f4cbf19f97940f81e996739fb7646882a419484c72d19e05852a7e"
   }
  }
 },
 "nbformat": 4,
 "nbformat_minor": 4
}
