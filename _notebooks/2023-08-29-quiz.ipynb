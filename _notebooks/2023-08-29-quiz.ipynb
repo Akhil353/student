{
 "cells": [
  {
   "attachments": {},
   "cell_type": "markdown",
   "metadata": {},
   "source": [
    "---\n",
    "toc: true\n",
    "comments: false\n",
    "layout: default\n",
    "title: About Me Quiz\n",
    "description: A quiz about me!\n",
    "type: hacks\n",
    "courses: { timebox: {week: 1} }\n",
    "---"
   ]
  },
  {
   "cell_type": "code",
   "execution_count": 1,
   "metadata": {},
   "outputs": [
    {
     "name": "stdin",
     "output_type": "stream",
     "text": [
      "Would you like to take a quiz? [Y/N]  y\n"
     ]
    },
    {
     "name": "stdout",
     "output_type": "stream",
     "text": [
      "Okay, lets go!\n"
     ]
    },
    {
     "name": "stdin",
     "output_type": "stream",
     "text": [
      "What is my partner's name? A) Advik Garg B) Yeongsu Kim C) Srijan Atti D) Joe Biden c\n"
     ]
    },
    {
     "name": "stdout",
     "output_type": "stream",
     "text": [
      "Good Job! You current score is 1/3\n"
     ]
    },
    {
     "name": "stdin",
     "output_type": "stream",
     "text": [
      "How long have I been doing coding? A) 3 Weeks B) 2 Years C) 1 Year D) 6 Months a\n"
     ]
    },
    {
     "name": "stdout",
     "output_type": "stream",
     "text": [
      "Nice try, the correct answer was B! Your score is 1/3\n"
     ]
    },
    {
     "name": "stdin",
     "output_type": "stream",
     "text": [
      "What grade am I currently in? A) 9th B) 10th C) 11th D) 12th d'\n"
     ]
    },
    {
     "name": "stdout",
     "output_type": "stream",
     "text": [
      "Nice try, the correct answer was C!\n",
      "Your final score is 1/3\n"
     ]
    }
   ],
   "source": [
    "#Ask if you would like to take a quiz or not\n",
    "yes_or_no = input(\"Would you like to take a quiz? [Y/N] \").lower()\n",
    "correct_answers = 0\n",
    "\n",
    "#Response to yes or no question\n",
    "if yes_or_no == 'y':\n",
    "    print(\"Okay, lets go!\")\n",
    "else:\n",
    "    print('Too bad, hope you have fun!')\n",
    "    \n",
    "#Get input from question 1\n",
    "question1 = input(\"What is my partner's name? A) Advik Garg B) Yeongsu Kim C) Srijan Atti D) Joe Biden\").lower()\n",
    "\n",
    "#Check answer to question 1\n",
    "if question1 == 'c':\n",
    "    correct_answers += 1\n",
    "    print(f\"Good Job! You current score is {correct_answers}/3\")\n",
    "else:\n",
    "    print(f\"Nice try, the correct answer was C! Your score is {correct_answers}/3\")\n",
    "\n",
    "#Input from question 2\n",
    "question2 = input(\"How long have I been doing coding? A) 3 Weeks B) 2 Years C) 1 Year D) 6 Months\").lower()\n",
    "\n",
    "#Check answer to question 2\n",
    "if question2 == 'b':\n",
    "    correct_answers += 1\n",
    "    print(f\"Congrats, you were correct! Your score is now at {correct_answers}/3\")\n",
    "else:\n",
    "    print(f\"Nice try, the correct answer was B! Your score is {correct_answers}/3\")\n",
    "\n",
    "#Input from question 3\n",
    "question3 = input('What grade am I currently in? A) 9th B) 10th C) 11th D) 12th').lower()\n",
    "\n",
    "#Check answer to question 3 and print final score\n",
    "if question3 == 'b':\n",
    "    correct_answers += 1\n",
    "    print(\"Nice Job!\")\n",
    "    print(f\"Your final score is {correct_answers}/3\")\n",
    "else:\n",
    "    print(\"Nice try, the correct answer was C!\")\n",
    "    print(f\"Your final score is {correct_answers}/3\")"
   ]
  }
 ],
 "metadata": {
  "kernelspec": {
   "display_name": "Python 3 (ipykernel)",
   "language": "python",
   "name": "python3"
  },
  "language_info": {
   "codemirror_mode": {
    "name": "ipython",
    "version": 3
   },
   "file_extension": ".py",
   "mimetype": "text/x-python",
   "name": "python",
   "nbconvert_exporter": "python",
   "pygments_lexer": "ipython3",
   "version": "3.11.4"
  },
  "vscode": {
   "interpreter": {
    "hash": "b0fa6594d8f4cbf19f97940f81e996739fb7646882a419484c72d19e05852a7e"
   }
  }
 },
 "nbformat": 4,
 "nbformat_minor": 4
}
