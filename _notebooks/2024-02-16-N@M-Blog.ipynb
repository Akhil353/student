{
 "cells": [
  {
   "cell_type": "markdown",
   "metadata": {},
   "source": [
    "---\n",
    "comments: False\n",
    "layout: default\n",
    "toc: True\n",
    "title: N@M\n",
    "type: hacks\n",
    "courses: { \"timebox\": { \"week\": 22 } }\n",
    "---"
   ]
  },
  {
   "cell_type": "markdown",
   "metadata": {},
   "source": [
    "# N@M"
   ]
  },
  {
   "cell_type": "markdown",
   "metadata": {},
   "source": [
    "### Reflection\n",
    "- N@M was very fun, and I got to meet a lot of friends along with a lot of new people. I also had fun explaining the code me and my group spend time working on."
   ]
  },
  {
   "cell_type": "markdown",
   "metadata": {},
   "source": [
    "### Glows/Growths\n",
    "- Glows\n",
    "  - Our project was up and running with no bugs!\n",
    "  - All features worked as intended\n",
    "  - Interactive experience for all the parents that looked at our project\n",
    "- Growths\n",
    "  - Create a better frontend to make the project easier to use\n",
    "  - Add another feature to make the project more appealing"
   ]
  },
  {
   "cell_type": "markdown",
   "metadata": {},
   "source": [
    "### Feedback\n",
    "While many people (parents and students alike) liked our project, we were told by another student that a cool feature would be to add a dislike button. This button would work the same as the like button but would subtract by 1 instead of adding one. Another feature to improve on is the reply feature, as it could be displayed better so users could tell what message it was a reply to. On my individual CPT project, I plan on adding:\n",
    "- Dislike button\n",
    "- Better frontend messages display\n",
    "- Date object to see when each message was posted\n",
    "- Allow for images to be stored in the database so images can be sent in a post"
   ]
  },
  {
   "cell_type": "markdown",
   "metadata": {},
   "source": [
    "### Images\n",
    "![1st Image](/student/images/IMG_6697.jpg)\n",
    "![2nd Image](/student/images/IMG_6698.jpg)"
   ]
  },
  {
   "cell_type": "markdown",
   "metadata": {},
   "source": [
    "### What impressed me\n",
    "- Related to CompSci\n",
    "  - I was impressed by the projects that the rest of the students had and the creativity everyone had. For example, I saw a project that decided to store videos instead of regular text, allowing them to create a video viewing platform.\n",
    "- Unrelated to CompSci\n",
    "  - The enthusiasm of both the students and the parents impressed me, as the room was lively the whole time for N@M. Everyone was having fun and relaxing, and I thought that was very cool."
   ]
  }
 ],
 "metadata": {
  "language_info": {
   "name": "python"
  },
  "orig_nbformat": 4
 },
 "nbformat": 4,
 "nbformat_minor": 2
}
