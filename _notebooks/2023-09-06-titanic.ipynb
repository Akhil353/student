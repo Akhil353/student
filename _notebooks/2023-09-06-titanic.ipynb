{
 "cells": [
  {
   "attachments": {},
   "cell_type": "markdown",
   "metadata": {},
   "source": [
    "---\n",
    "toc: true\n",
    "comments: true\n",
    "layout: default\n",
    "title: Titanic Simulator\n",
    "description: TBD\n",
    "type: hacks\n",
    "courses: { timebox: {week: 3} }\n",
    "---"
   ]
  },
  {
   "cell_type": "code",
   "execution_count": null,
   "metadata": {},
   "outputs": [],
   "source": [
    "import numpy as np\n",
    "import pandas as pd\n",
    "def titanic():\n",
    "    #all the relevant variables for the survival rate of people on the titanic\n",
    "    pclass = int(input(\"Ticket Class (1: 1st, 2: 2nd, 3: 3rd): \"))\n",
    "    sex = input(\"Male or Female: \").lower()\n",
    "    age = int(input(\"Age: \"))\n",
    "    sibsp = int(input(\"Number of Siblings/Spouses aboard the Titanic: \"))\n",
    "    parch = int(input(\"Number of Parents/Children aboard the Titanic: \"))\n",
    "    fare = int(input(\"Passengar Fare: \"))\n",
    "    cabin = int(input(\"Cabin Number: \"))\n",
    "    \n",
    "    #put all data into one array\n",
    "    info = [pclass, sex, age, sibsp, parch, fare, cabin]\n",
    "    "
   ]
  }
 ],
 "metadata": {
  "kernelspec": {
   "display_name": "Python 3",
   "language": "python",
   "name": "python3"
  },
  "language_info": {
   "codemirror_mode": {
    "name": "ipython",
    "version": 3
   },
   "file_extension": ".py",
   "mimetype": "text/x-python",
   "name": "python",
   "nbconvert_exporter": "python",
   "pygments_lexer": "ipython3",
   "version": "3.11.4"
  },
  "orig_nbformat": 4,
  "vscode": {
   "interpreter": {
    "hash": "b0fa6594d8f4cbf19f97940f81e996739fb7646882a419484c72d19e05852a7e"
   }
  }
 },
 "nbformat": 4,
 "nbformat_minor": 2
}
