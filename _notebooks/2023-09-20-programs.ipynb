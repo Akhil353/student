{
 "cells": [
  {
   "cell_type": "markdown",
   "id": "f9294536",
   "metadata": {},
   "source": [
    "## Input/Output\n",
    "- Get the name of the user by using the input() function\n",
    "- Print hello (user) by using the print statement |print('Hello' + name + \"!\")|"
   ]
  },
  {
   "cell_type": "code",
   "execution_count": null,
   "id": "8b2be0b2",
   "metadata": {},
   "outputs": [],
   "source": [
    "name = input(\"Enter your name: \")\n",
    "print(\"Hello, \" + name + \"!\")"
   ]
  },
  {
   "cell_type": "markdown",
   "id": "2ed7c011",
   "metadata": {},
   "source": [
    "## Lists\n",
    "- Create a list called fruits \n",
    "- Print the list using a print statement"
   ]
  },
  {
   "cell_type": "code",
   "execution_count": null,
   "id": "0ffa0611",
   "metadata": {},
   "outputs": [],
   "source": [
    "fruits = [\"apple\", \"banana\", \"cherry\"]\n",
    "print(\"List of fruits:\", fruits)"
   ]
  },
  {
   "cell_type": "markdown",
   "id": "b5fbdd5a",
   "metadata": {},
   "source": [
    "## Dictionaries\n",
    "- Create a dictionary called student with information about a student\n",
    "- Print the info about the student by accessing the info from the database"
   ]
  },
  {
   "cell_type": "code",
   "execution_count": null,
   "id": "81d87fc6",
   "metadata": {},
   "outputs": [],
   "source": [
    "student = {\"name\": \"John\", \"age\": 20, \"grade\": \"A\"}\n",
    "print(\"Student name:\", student['name'], \"\\nStudent age:\", student['age'],\"\\nStudent grade:\", student['grade'])"
   ]
  },
  {
   "cell_type": "markdown",
   "id": "025a4004",
   "metadata": {},
   "source": [
    "## Iteration (For Loops)\n",
    "- Using a for loop and the range function, print \"iteration\" + the number of the iteration\n",
    "- The range function will stop after the 5th iteration because it doesn't include the last number in the range"
   ]
  },
  {
   "cell_type": "code",
   "execution_count": null,
   "id": "0643cb37",
   "metadata": {},
   "outputs": [],
   "source": [
    "for i in range(1, 6):\n",
    "    print(\"Iteration\", i)"
   ]
  },
  {
   "cell_type": "markdown",
   "id": "956fe306",
   "metadata": {},
   "source": [
    "## Mathematical Analysis\n",
    "- Define a function that takes in a list (numbers) and gets the average of the list by dividing the sum of the list by the length\n",
    "- Return the average"
   ]
  },
  {
   "cell_type": "code",
   "execution_count": null,
   "id": "8537b13e",
   "metadata": {},
   "outputs": [],
   "source": [
    "def calculate_average(numbers):\n",
    "    return sum(numbers) / len(numbers)\n",
    "\n",
    "numbers = [12, 24, 36, 48, 60]\n",
    "average = calculate_average(numbers)\n",
    "print(\"Average:\", average)"
   ]
  },
  {
   "cell_type": "markdown",
   "id": "dc6c88ef",
   "metadata": {},
   "source": [
    "## Mathematical Analysis Part 2 (If/Else Statement)\n",
    "- Get an input number and modulo the number by 2\n",
    "- If the result is 0, the number is even, so return (num + \"is even\")\n",
    "- If the result isn't 0, the number is odd, so return (num + \"is odd\")"
   ]
  },
  {
   "cell_type": "code",
   "execution_count": null,
   "id": "5fb6d9e7",
   "metadata": {},
   "outputs": [],
   "source": [
    "num = int(input(\"Enter a number: \"))\n",
    "if num % 2 == 0:\n",
    "    print(num, \"is even.\")\n",
    "else:\n",
    "    print(num, \"is odd.\")"
   ]
  },
  {
   "cell_type": "markdown",
   "id": "8d10bd46",
   "metadata": {},
   "source": [
    "## Recursion\n",
    "- Define a function that gets a number and returns the factorial of the number\n",
    "- By using recursion, you can multiply the input number with every number (down to 0) that has a difference of 1"
   ]
  },
  {
   "cell_type": "code",
   "execution_count": null,
   "id": "5bd59044",
   "metadata": {},
   "outputs": [],
   "source": [
    "def factorial(n):\n",
    "    if n == 0:\n",
    "        return 1\n",
    "    else:\n",
    "        return n * factorial(n - 1)\n",
    "\n",
    "number = int(input(\"Enter a number to calculate its factorial: \"))\n",
    "result = factorial(number)\n",
    "print(\"Factorial of\", number, \"is\", result)"
   ]
  },
  {
   "cell_type": "markdown",
   "id": "d2817f8b",
   "metadata": {},
   "source": [
    "## Combination of all the concepts from above\n",
    "\n",
    "- First function\n",
    "  - Add a student to keep track of (get name and age)\n",
    "  - Ask the user if they want to add more students or not\n",
    "    - If the user wants more students, use recursion to call the function again (adds another student)\n",
    "    - If the user doesn't want more students, exit the function\n",
    "\n",
    "- Second function\n",
    "  - Utilize dictionaries to keep track of the grades of all students\n",
    "    - Use iteration to go through each student in the student list\n",
    "      - Get the grade of a student\n",
    "      - If the user wants more grade points, loop back to the code and add another grade point\n",
    "      - At the end, divide the total grade by the amount of iterations performed to get the total grade\n",
    "    - Repeat for each student in the students list\n",
    "\n",
    "- Third function\n",
    "  - Print the details of each student \n",
    "    - Get the name, age, and score of each student\n",
    "      - Get name/age from the students list and the ages list\n",
    "      - Get the grade of the students by indexing the grades dictionary with the student name\n",
    "\n",
    "- Fourth function\n",
    "  - Calculate the average grade of all the students\n",
    "    - Get the sum of all the student grades\n",
    "    - Divide by # of students\n",
    "\n",
    "- Fifth function\n",
    "  - Assess the performance of the \"class\" by assessing the grade average"
   ]
  },
  {
   "cell_type": "code",
   "execution_count": 1,
   "id": "dcb245b4",
   "metadata": {},
   "outputs": [
    {
     "name": "stdin",
     "output_type": "stream",
     "text": [
      "Enter student name:  Akhil\n",
      "Enter student age:  15\n",
      "Would you like to add another student? [Y/N] n\n",
      "Enter Akhil's grade:  99\n",
      "Would you like to add another grade? [Y/N] y\n",
      "Enter Akhil's grade:  93\n",
      "Would you like to add another grade? [Y/N] n\n"
     ]
    },
    {
     "name": "stdout",
     "output_type": "stream",
     "text": [
      "\n",
      "Student Details:\n",
      "Akhil: Age - 15, Grade - 96.5\n",
      "\n",
      "Average Grade: 96.5\n",
      "\n",
      "Overall Class Performance: Excellent\n"
     ]
    }
   ],
   "source": [
    "# Get all students and their age via recursion\n",
    "def get_user_input(students=None, ages=None):\n",
    "    if students is None:\n",
    "        students = []\n",
    "        ages = []\n",
    "    \n",
    "    # Get student info\n",
    "    student = input(\"Enter student name: \").lower()\n",
    "    age = int(input(\"Enter student age: \"))\n",
    "    students.append(student.capitalize())\n",
    "    ages.append(age)\n",
    "    \n",
    "    # Recursion to add more students if desired\n",
    "    keep_going = input('Would you like to add another student? [Y/N]').lower()\n",
    "    if keep_going == 'y':\n",
    "        return get_user_input(students, ages)\n",
    "    else:\n",
    "        return students, ages\n",
    "\n",
    "# Add grades to each student by using a dictionary\n",
    "def create_student_grades(students):\n",
    "    keep_going = 'y'\n",
    "    grades = {}\n",
    "    # Iterate through each student in the student list with for loop\n",
    "    for student in students:\n",
    "        grades[student] = 1\n",
    "        iteration = 0\n",
    "        while keep_going == 'y':\n",
    "            iteration += 1\n",
    "            grade = int(input(f\"Enter {student}'s grade: \"))\n",
    "            grades[student] += grade\n",
    "            keep_going = input('Would you like to add another grade? [Y/N]').lower()\n",
    "        grades[student] = grades[student] / iteration\n",
    "        keep_going = 'y'\n",
    "    return grades\n",
    "\n",
    "# Print the student details using iteration\n",
    "def print_student_details(students, grades, ages):\n",
    "    age = [age for age in ages]\n",
    "    index = -1\n",
    "    for student in students:\n",
    "        index += 1\n",
    "        print(f\"{student}: Age - {age[index]}, Grade - {grades[student]}\")\n",
    "\n",
    "# Get the sum of the grades of all students\n",
    "def calculate_average_grade(grades):\n",
    "    total_grade = sum(grades.values())\n",
    "    num_students = len(grades)\n",
    "    average_grade = total_grade / num_students\n",
    "    return average_grade\n",
    "\n",
    "# Assess how well the class average is\n",
    "def assess_performance(average_grade):\n",
    "    if average_grade >= 90:\n",
    "        return \"Excellent\"\n",
    "    elif average_grade >= 80:\n",
    "        return \"Good\"\n",
    "    elif average_grade >= 70:\n",
    "        return \"Satisfactory\"\n",
    "    else:\n",
    "        return \"Needs Improvement\"\n",
    "\n",
    "# Run all functions in one big main function\n",
    "def student_grader():\n",
    "    students, ages = get_user_input()\n",
    "    grades = create_student_grades(students)\n",
    "    \n",
    "    print(\"\\nStudent Details:\")\n",
    "    print_student_details(students, grades, ages)\n",
    "    \n",
    "    average_grade = calculate_average_grade(grades)\n",
    "    print(f\"\\nAverage Grade: {average_grade}\")\n",
    "    \n",
    "    performance = assess_performance(average_grade)\n",
    "    print(f\"\\nOverall Class Performance: {performance}\")\n",
    "\n",
    "if __name__ == \"__main__\":\n",
    "    student_grader()"
   ]
  },
  {
   "cell_type": "code",
   "execution_count": null,
   "id": "9a0d680a-1cc6-498c-a0c6-fcfc1b8b693b",
   "metadata": {},
   "outputs": [],
   "source": []
  }
 ],
 "metadata": {
  "kernelspec": {
   "display_name": "Python 3 (ipykernel)",
   "language": "python",
   "name": "python3"
  },
  "language_info": {
   "codemirror_mode": {
    "name": "ipython",
    "version": 3
   },
   "file_extension": ".py",
   "mimetype": "text/x-python",
   "name": "python",
   "nbconvert_exporter": "python",
   "pygments_lexer": "ipython3",
   "version": "3.11.5"
  }
 },
 "nbformat": 4,
 "nbformat_minor": 5
}
