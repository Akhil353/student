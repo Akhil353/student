{
 "cells": [
  {
   "cell_type": "markdown",
   "metadata": {},
   "source": [
    "---\n",
    "layout: post\n",
    "comments: True\n",
    "title: 1.4 Correcting errors\n",
    "description: Practice with identifying and correcting code blocks\n",
    "courses: {timebox: {week: 6}}\n",
    "---"
   ]
  },
  {
   "cell_type": "markdown",
   "metadata": {},
   "source": [
    "[College Board Big Idea 1](https://apclassroom.collegeboard.org/103/home?unit=1)\n",
    "\n",
    "## Identifying and Correcting Errors (Unit 1.4)\n",
    "\n",
    "> Become familiar with types of errors and strategies for fixing them\n",
    "\n",
    "- Review CollegeBoard videos and take notes on blog\n",
    "- Complete assigned MCQ questions if applicable"
   ]
  },
  {
   "cell_type": "markdown",
   "metadata": {},
   "source": [
    "# Code Segments\n",
    "\n",
    "Practice fixing the following code segments!"
   ]
  },
  {
   "cell_type": "markdown",
   "metadata": {},
   "source": [
    "## Segment 1: Alphabet List\n",
    "\n",
    "Intended behavior: create a list of characters from the string contained in the variable `alphabet`\n",
    "\n",
    "### Code:"
   ]
  },
  {
   "cell_type": "code",
   "execution_count": 12,
   "metadata": {
    "vscode": {
     "languageId": "javascript"
    }
   },
   "outputs": [
    {
     "data": {
      "application/javascript": [
       "\n",
       "var alphabet = \"abcdefghijklmnopqrstuvwxyz\";\n",
       "var alphabetList = [];\n",
       "\n",
       "for (var i = 0; i < 26; i++) {\n",
       "\talphabetList.push(alphabet[i]);\n",
       "}\n",
       "\n",
       "console.log(alphabetList);\n"
      ],
      "text/plain": [
       "<IPython.core.display.Javascript object>"
      ]
     },
     "metadata": {},
     "output_type": "display_data"
    }
   ],
   "source": [
    "%%js\n",
    "\n",
    "var alphabet = \"abcdefghijklmnopqrstuvwxyz\";\n",
    "var alphabetList = [];\n",
    "\n",
    "for (var i = 0; i < 26; i++) {\n",
    "\talphabetList.push(alphabet[i]);\n",
    "}\n",
    "\n",
    "console.log(alphabetList);"
   ]
  },
  {
   "cell_type": "markdown",
   "metadata": {},
   "source": [
    "### What I Changed\n",
    "\n",
    "I changed what was being pushed. Before, the numbers were being pushed, but now, the corresponding alphabet index is being pushed."
   ]
  },
  {
   "cell_type": "markdown",
   "metadata": {},
   "source": [
    "## Segment 2: Numbered Alphabet\n",
    "\n",
    "Intended behavior: print the number of a given alphabet letter within the alphabet. For example:\n",
    "```\n",
    "\"_\" is letter number _ in the alphabet\n",
    "```\n",
    "\n",
    "Where the underscores (_) are replaced with the letter and the position of that letter within the alphabet (e.g. a=1, b=2, etc.)\n",
    "\n",
    "### Code:"
   ]
  },
  {
   "cell_type": "code",
   "execution_count": 27,
   "metadata": {
    "vscode": {
     "languageId": "javascript"
    }
   },
   "outputs": [
    {
     "data": {
      "application/javascript": [
       "\n",
       "var alphabet = \"abcdefghijklmnopqrstuvwxyz\";\n",
       "var alphabetList = [];\n",
       "\n",
       "for (var i = 0; i < 26; i++) {\n",
       "\talphabetList.push(alphabet[i]);\n",
       "}\n",
       "\n",
       "console.log(alphabetList);\n",
       "\n",
       "let letterNumber = 5\n",
       "\n",
       "for (var i = 0; i < alphabetList.length; i++) {\n",
       "\tif (i == letterNumber) {\n",
       "\t\tconsole.log(alphabetList[letterNumber - 1] + \" is letter number \" + (letterNumber) + \" in the alphabet\")\n",
       "\t}\n",
       "}\n",
       "\n",
       "// Should output:\n",
       "// \"e\" is letter number 5 in the alphabet\n"
      ],
      "text/plain": [
       "<IPython.core.display.Javascript object>"
      ]
     },
     "metadata": {},
     "output_type": "display_data"
    }
   ],
   "source": [
    "%%js\n",
    "\n",
    "var alphabet = \"abcdefghijklmnopqrstuvwxyz\";\n",
    "var alphabetList = [];\n",
    "\n",
    "for (var i = 0; i < 26; i++) {\n",
    "\talphabetList.push(alphabet[i]);\n",
    "}\n",
    "\n",
    "console.log(alphabetList);\n",
    "\n",
    "let letterNumber = 5\n",
    "\n",
    "for (var i = 0; i < alphabetList.length; i++) {\n",
    "\tif (i == letterNumber) {\n",
    "\t\tconsole.log(alphabetList[letterNumber - 1] + \" is letter number \" + (letterNumber) + \" in the alphabet\")\n",
    "\t}\n",
    "}\n",
    "\n",
    "// Should output:\n",
    "// \"e\" is letter number 5 in the alphabet"
   ]
  },
  {
   "cell_type": "markdown",
   "metadata": {},
   "source": [
    "### What I Changed\n",
    "\n",
    "I changed\n",
    "- for loop said \"i < alphabetList\"\n",
    "    - This wouldn't work as alphabetList is a list and can't be compared to an integer\n",
    "- If statement w/ 3 equal signs\n",
    "    - To compare two variables, a double equal sign must be used (==)\n",
    "- Printed alphabetList[letterNumber - 1] instead of letterNumber\n",
    "    - We have to index the letter from the alphabet list to get the letter, we can't just put the index of the number\n",
    "    - The index must be subtracted by 1 as the index starts at 0, so the letter 'e' is at index 4 and not 5"
   ]
  },
  {
   "cell_type": "markdown",
   "metadata": {},
   "source": [
    "## Segment 3: Odd Numbers\n",
    "\n",
    "Intended behavior: print a list of all the odd numbers below 10\n",
    "\n",
    "### Code:"
   ]
  },
  {
   "cell_type": "code",
   "execution_count": 29,
   "metadata": {
    "vscode": {
     "languageId": "javascript"
    }
   },
   "outputs": [
    {
     "data": {
      "application/javascript": [
       "\n",
       "let odds = [];\n",
       "let i = 1;\n",
       "\n",
       "while (i <= 10) {\n",
       "  odds.push(i);\n",
       "  i += 2;\n",
       "}\n",
       "\n",
       "console.log(odds);\n"
      ],
      "text/plain": [
       "<IPython.core.display.Javascript object>"
      ]
     },
     "metadata": {},
     "output_type": "display_data"
    }
   ],
   "source": [
    "%%js\n",
    "\n",
    "let odds = [];\n",
    "let i = 1;\n",
    "\n",
    "while (i <= 10) {\n",
    "  odds.push(i);\n",
    "  i += 2;\n",
    "}\n",
    "\n",
    "console.log(odds);"
   ]
  },
  {
   "cell_type": "markdown",
   "metadata": {},
   "source": [
    "### What I Changed\n",
    "\n",
    "I changed...\n",
    "- What the output was\n",
    "    - The output was originally getting all even nums to output, so I switched the var names\n",
    "    - I changed the initial starting value of the number i. By changing it from 0 to 1, we are able to get the odd values and not the evens"
   ]
  },
  {
   "cell_type": "markdown",
   "metadata": {},
   "source": [
    "# BELOW NOT EDITED"
   ]
  },
  {
   "cell_type": "markdown",
   "metadata": {},
   "source": [
    "The intended outcome is printing a number between 1 and 100 once, if it is a multiple of 2 or 5 \n",
    "- What values are outputted incorrectly. Why?\n",
    "- Make changes to get the intended outcome."
   ]
  },
  {
   "cell_type": "code",
   "execution_count": 30,
   "metadata": {
    "vscode": {
     "languageId": "javascript"
    }
   },
   "outputs": [
    {
     "data": {
      "application/javascript": [
       "\n",
       "var numbers = []\n",
       "var newNumbers = []\n",
       "var i = 0\n",
       "\n",
       "while (i < 100) {\n",
       "    numbers.push(i)\n",
       "    i += 1\n",
       "}\n",
       "for (var i of numbers) {\n",
       "    if (numbers[i] % 5 === 0)\n",
       "        newNumbers.push(numbers[i])\n",
       "    if (numbers[i] % 2 === 0)\n",
       "        newNumbers.push(numbers[i])\n",
       "}\n",
       "console.log(newNumbers) \n",
       "\n"
      ],
      "text/plain": [
       "<IPython.core.display.Javascript object>"
      ]
     },
     "metadata": {},
     "output_type": "display_data"
    }
   ],
   "source": [
    "%%js\n",
    "\n",
    "var numbers = []\n",
    "var newNumbers = []\n",
    "var i = 0\n",
    "\n",
    "while (i < 100) {\n",
    "    numbers.push(i)\n",
    "    i += 1\n",
    "}\n",
    "for (var i of numbers) {\n",
    "    if (numbers[i] % 5 === 0)\n",
    "        newNumbers.push(numbers[i])\n",
    "    if (numbers[i] % 2 === 0)\n",
    "        newNumbers.push(numbers[i])\n",
    "}\n",
    "console.log(newNumbers) \n",
    "\n"
   ]
  },
  {
   "cell_type": "markdown",
   "metadata": {},
   "source": [
    "# Challenge\n",
    "\n",
    "This code segment is at a very early stage of implementation.\n",
    "- What are some ways to (user) error proof this code?\n",
    "- The code should be able to calculate the cost of the meal of the user\n",
    "\n",
    "Hint:\n",
    "- write a “single” test describing an expectation of the program of the program\n",
    "- test - input burger, expect output of burger price\n",
    "- run the test, which should fail because the program lacks that feature\n",
    "- write “just enough” code, the simplest possible, to make the test pass\n",
    "\n",
    "Then repeat this process until you get program working like you want it to work."
   ]
  },
  {
   "cell_type": "code",
   "execution_count": 60,
   "metadata": {
    "vscode": {
     "languageId": "javascript"
    }
   },
   "outputs": [
    {
     "data": {
      "application/javascript": [
       "\n",
       "var menu =  {\"burger\": 3.99,\n",
       "         \"fries\": 1.99,\n",
       "         \"drink\": 0.99}\n",
       "var total = 0;\n",
       "\n",
       "//shows the user the menu and prompts them to select an item\n",
       "console.log(\"Menu\")\n",
       "for (var item in menu) {\n",
       "    console.log(item + \"  $\" + menu[item].toFixed(2)) //why is toFixed used? Used for decimal places, very cool\n",
       "}\n",
       "//ideally the code should support mutliple items (I sense a misspelling in this sentence, do you?)\n",
       "var keep_going = 'N';\n",
       "var order_list = {\n",
       "    '1': 0,\n",
       "    '2': 0,\n",
       "    '3': 0\n",
       "};\n",
       "while (keep_going == 'N') {\n",
       "    order_list[prompt(\"Would you like a burger (1), some fries (2), or a drink (3)?]\")] += parseInt(prompt(\"How many would you like?\"))\n",
       "    var keep_going = prompt(\"Is that it for today? [Y/N]\").toUpperCase() //the toUpperCase makes sure a lowercase y or n is still accepted\n",
       "}\n",
       "\n",
       "\n",
       "//code should add the price of the menu items selected by the user \n",
       "total += menu['burger'] * order_list['1']\n",
       "total += menu['fries'] * order_list['2']\n",
       "total += menu['drink'] * order_list['3']\n",
       "\n",
       "total *= 1.0725\n",
       "var tip = parseInt(prompt(\"Please put the amount in $ that you would like to tip: \"))\n",
       "\n",
       "console.log('$' + total.toFixed(1) + tip)\n",
       "console.log(keep_going, total, order_list)\n"
      ],
      "text/plain": [
       "<IPython.core.display.Javascript object>"
      ]
     },
     "metadata": {},
     "output_type": "display_data"
    }
   ],
   "source": [
    "%%js\n",
    "\n",
    "var menu =  {\"burger\": 3.99,\n",
    "         \"fries\": 1.99,\n",
    "         \"drink\": 0.99}\n",
    "var total = 0;\n",
    "\n",
    "//shows the user the menu and prompts them to select an item\n",
    "console.log(\"Menu\")\n",
    "for (var item in menu) {\n",
    "    console.log(item + \"  $\" + menu[item].toFixed(2)) //why is toFixed used? Used for decimal places, very cool\n",
    "}\n",
    "//ideally the code should support mutliple items (I sense a misspelling in this sentence, do you?)\n",
    "var keep_going = 'N';\n",
    "var order_list = {\n",
    "    '1': 0,\n",
    "    '2': 0,\n",
    "    '3': 0\n",
    "};\n",
    "while (keep_going == 'N') {\n",
    "    order_list[prompt(\"Would you like a burger (1), some fries (2), or a drink (3)?]\")] += parseInt(prompt(\"How many would you like?\"))\n",
    "    var keep_going = prompt(\"Is that it for today? [Y/N]\").toUpperCase() //the toUpperCase makes sure a lowercase y or n is still accepted\n",
    "}\n",
    "\n",
    "\n",
    "//code should add the price of the menu items selected by the user \n",
    "total += menu['burger'] * order_list['1']\n",
    "total += menu['fries'] * order_list['2']\n",
    "total += menu['drink'] * order_list['3']\n",
    "\n",
    "total *= 1.0725\n",
    "var tip = parseInt(prompt(\"Please put the amount in $ that you would like to tip: \"))\n",
    "\n",
    "console.log('$' + total.toFixed(1) + tip)"
   ]
  },
  {
   "cell_type": "markdown",
   "metadata": {},
   "source": [
    "## Hacks\n",
    "- Fix the errors in the first three segments in this notebook and say what you changed in the code cell under \"What I Changed\" (Challenge is optional)"
   ]
  }
 ],
 "metadata": {
  "kernelspec": {
   "display_name": "Python 3 (ipykernel)",
   "language": "python",
   "name": "python3"
  },
  "language_info": {
   "codemirror_mode": {
    "name": "ipython",
    "version": 3
   },
   "file_extension": ".py",
   "mimetype": "text/x-python",
   "name": "python",
   "nbconvert_exporter": "python",
   "pygments_lexer": "ipython3",
   "version": "3.11.5"
  },
  "vscode": {
   "interpreter": {
    "hash": "aee8b7b246df8f9039afb4144a1f6fd8d2ca17a180786b69acc140d282b71a49"
   }
  }
 },
 "nbformat": 4,
 "nbformat_minor": 4
}
