{
 "cells": [
  {
   "cell_type": "markdown",
   "metadata": {},
   "source": [
    "---\n",
    "toc: true\n",
    "comments: true\n",
    "layout: default\n",
    "title: Crowdsourcing\n",
    "type: hacks\n",
    "courses: { timebox: {week: 15} }\n",
    "---"
   ]
  },
  {
   "cell_type": "markdown",
   "metadata": {},
   "source": [
    "### Crowdsourcing\n",
    "Crowdsourcing is the action of acquirring work and information from a large group of people via the internet. This information can be obtained from social media and other forms of media throughout the internet. Crowdsourcing allows companies to work with people throughout the world and aquire a variety of different skills. \n",
    "![crowdsourcing image](https://www.investopedia.com/thmb/-csD4ERbU65LWGDvuXuPvUV8cUY=/1500x0/filters:no_upscale():max_bytes(150000):strip_icc()/crowdsourcing.asp-final-7a1d5dcc4f3b45c38c0a5050354f66f4.png)\n",
    "\n",
    "# variations of crowdsourcing\n",
    "Idea Generation: Seeking ideas and suggestions from the crowd to solve a problem or improve a product.\n",
    "\n",
    "Microtasks: Breaking down a large task into smaller, manageable microtasks that can be distributed to a crowd.\n",
    "\n",
    "Funding: Crowdfunding platforms, where a crowd financially supports projects, products, or causes.\n",
    "\n",
    "ata Collection: Gathering and analyzing data through contributions from a large number of individuals.\n",
    "\n",
    "Open Innovation: Involving external contributors in the innovation process of a company.\n",
    "\n",
    "# benefits of crowdsourcing\n",
    "Crowdsourcing is cost efficent because it allows access to talented workers without the need for a traditional workforce. Also, projects and work can be completed in a lesser amount of time due to the many contributors. Finally, the diversity of contributors can lead to innovative ideas and solutions that may have not emerged in a traditional setting. \n",
    "\n",
    "# Example of crowdsourcing\n",
    " A well-known example of crowdsourcing is the website Wikipedia. Wikipedia is an online encyclopedia where anybody can contribute and add information onto the site. \n",
    "\n",
    "# drawbacks of crowdsourcing\n",
    "There might be complications when crowdsourcing such as difficulties in confidentiality and communication between the groups involved. There is also a slight chance of receiving low quality work if a collaborater misunderstands the project's requirements.\n",
    "## Popcorn Hack  \n",
    "How can organizations optimize crowdsoucing while minimizing the drawbacks?\n",
    "Crowdsourcing can be optimized via having a backup copy so no one can misuse their power, and the organization can get feedback.\n"
   ]
  },
  {
   "cell_type": "markdown",
   "metadata": {},
   "source": [
    "## Citizen Science  \n",
    "- Citizen Science is scientific research that the general population helps to conduct. Ordinary citizens, often non-scientists, help contribute data to research projects using computing devices.\n",
    "- Gives a wide range of people the ability to contribute to scientific studies which provides more diverse data.\n",
    "### Popcorn Hack  \n",
    "How do you believe participating in a citizen science project could enhance both scientific research and public engagement, and can you share any specific areas of scientific study where citizen science might make a significant impact in the future?\n",
    "Areas that require information such as clinical tests and public forms could be enhanced with citizen science projects. For example, we can better understand humans with many citizen science studies."
   ]
  },
  {
   "cell_type": "markdown",
   "metadata": {},
   "source": [
    "# Homework\n",
    "## Question 1  \n",
    "Explain the concept of crowdsourcing. Provide examples of how it is commonly used in different fields.\n",
    "Crowdsourcing is the concept of using many different people to get information/help. For example, kickstarter and gofundme both use many different people to help support an idea.\n",
    "## Question 2  \n",
    "Discuss the benefits and challenges associated with crowdsourcing. How can organizations effectively harness the power of crowdsourcing while mitigating potential drawbacks?\n",
    "Crowdsourcing can help make the creation of something quicker/easier. However, crowdsourcing can also lead to exploitation and a lack of quality. Organizations can reduce the drawbacks by keeping a backup copy and moderating the changes made. \n",
    "## Question 3  \n",
    "Identify a real-world example of a successful crowdsourcing project. Explain the project, its goals, and the positive outcomes achieved through the collaboration of a large group of people.\n",
    "GoFundMe is a website that uses crowdfunding to help fund projects or give money to people who need it. Through a large group of people, a lot of money can be raised through small donations. Because of this, people who need money can get it and startups can get the funding they need to start.\n",
    "### Question 4\n",
    "Create a hypothetical scenario where crowdsourcing could be applied to solve a specific problem. Describe the problem, the type of contributions you would seek from the crowd, and the potential impact of implementing the crowdsourced solution.\n",
    "A school can use crowdsourcing to raise funding or use crowdsourcing to ask students what problems the school faces. For example, if a certain aspect of the school such as the bathrooms needed a rennovation, crowdsourcing could help find that problem. Crowdsourcing could also help with getting the money needed for the rennovation. With this, complaints of the bathroom would be reduced and students would be more content with the school overall."
   ]
  }
 ],
 "metadata": {
  "language_info": {
   "name": "python"
  }
 },
 "nbformat": 4,
 "nbformat_minor": 2
}
